{
 "cells": [
  {
   "cell_type": "code",
   "execution_count": null,
   "metadata": {},
   "outputs": [],
   "source": [
    "import pandas as pd\n",
    "import re\n"
   ]
  },
  {
   "cell_type": "code",
   "execution_count": 10,
   "metadata": {},
   "outputs": [],
   "source": [
    "# Sample data string\n",
    "data_str = \"\"\"\n",
    "assign(5710100,bmb_1,tue_11_30_to_12_30,1,emre_akbas,1) assign(5710100,bmb_1,sat_14_30_to_15_30,1,emre_akbas,2) assign(5710111,bmb_5,sat_14_30_to_15_30,1,sinan_kalkan,1) assign(5710111,bmb_4,mon_14_30_to_15_30,1,sinan_kalkan,2) assign(5710111,bmb_1,sun_16_30_to_17_30,1,sinan_kalkan,3) assign(5710111,bmb_4,mon_11_30_to_12_30,2,gokturk_ucoluk,1) assign(5710111,bmb_1,mon_9_30_to_10_30,2,gokturk_ucoluk,2) assign(5710111,bmb_5,wed_8_30_to_9_30,2,gokturk_ucoluk,3) assign(5710111,bmb_2,mon_11_30_to_12_30,3,sinan_kalkan,1) assign(5710111,bmb_2,mon_9_30_to_10_30,3,sinan_kalkan,2) assign(5710111,bmb_1,mon_8_30_to_9_30,3,sinan_kalkan,3) assign(5710140,bmb_4,wed_9_30_to_10_30,1,hakan_yildiz,1) assign(5710140,bmb_5,wed_12_30_to_13_30,1,hakan_yildiz,2) assign(5710140,bmb_5,wed_15_30_to_16_30,1,hakan_yildiz,3) assign(5710213,bmb_5,sun_13_30_to_14_30,1,fehime_nihan_cicekli,1) assign(5710213,bmb_5,sat_18_30_to_19_30,1,fehime_nihan_cicekli,2) assign(5710213,bmb_1,sun_14_30_to_15_30,1,fehime_nihan_cicekli,3) assign(5710213,bmb_5,sun_12_30_to_13_30,2,seyda_ertekin_bolelli,1) assign(5710213,bmb_5,sun_10_30_to_11_30,2,seyda_ertekin_bolelli,2) assign(5710213,bmb_1,sun_15_30_to_16_30,2,seyda_ertekin_bolelli,3) assign(5710213,bmb_5,sun_14_30_to_15_30,3,seyda_ertekin_bolelli,1) assign(5710213,bmb_5,sun_11_30_to_12_30,3,seyda_ertekin_bolelli,2) assign(5710213,bmb_1,sun_13_30_to_14_30,3,seyda_ertekin_bolelli,3) assign(5710223,bmb_3,sun_16_30_to_17_30,1,faruk_polat,1) assign(5710223,bmb_3,sun_15_30_to_16_30,1,faruk_polat,2) assign(5710223,bmb_1,sun_17_30_to_18_30,1,faruk_polat,3) assign(5710223,bmb_3,sun_10_30_to_11_30,2,ayse_nur_birturk,1) assign(5710223,bmb_1,sun_19_30_to_20_30,2,ayse_nur_birturk,2) assign(5710223,bmb_3,sun_18_30_to_19_30,2,ayse_nur_birturk,3) assign(5710223,bmb_3,sun_19_30_to_20_30,3,faruk_polat,1) assign(5710223,bmb_3,sun_13_30_to_14_30,3,faruk_polat,2) assign(5710223,bmb_1,sun_18_30_to_19_30,3,faruk_polat,3) assign(5710301,bmb_5,sun_18_30_to_19_30,1,yusuf_sahillioglu,1) assign(5710301,bmb_5,sun_19_30_to_20_30,1,yusuf_sahillioglu,2) assign(5710301,bmb_5,wed_18_30_to_19_30,1,yusuf_sahillioglu,3) assign(5710302,bmb_5,sun_16_30_to_17_30,1,ayse_yasemin_seydim,1) assign(5710302,bmb_5,sun_17_30_to_18_30,1,ayse_yasemin_seydim,2) assign(5710302,bmb_4,sun_14_30_to_15_30,1,ayse_yasemin_seydim,3) assign(5710305,bmb_a101,mon_8_30_to_9_30,1,faruk_tokdemir,1) assign(5710305,bmb_a101,tue_8_30_to_9_30,1,faruk_tokdemir,2) assign(5710305,bmb_a101,mon_18_30_to_19_30,1,faruk_tokdemir,3) assign(5710310,bmb_5,sun_9_30_to_10_30,1,seyyit_alper_sert,1) assign(5710310,bmb_5,sun_15_30_to_16_30,1,seyyit_alper_sert,2) assign(5710310,bmb_4,mon_8_30_to_9_30,1,seyyit_alper_sert,3) assign(5710315,bmb_1,fri_15_30_to_16_30,1,ismail_hakki_toroslu,1) assign(5710315,bmb_1,fri_18_30_to_19_30,1,ismail_hakki_toroslu,2) assign(5710315,bmb_1,fri_19_30_to_20_30,1,ismail_hakki_toroslu,3) assign(5710315,bmb_1,fri_14_30_to_15_30,2,ismail_hakki_toroslu,1) assign(5710315,bmb_1,tue_9_30_to_10_30,2,ismail_hakki_toroslu,2) assign(5710315,bmb_1,fri_13_30_to_14_30,2,ismail_hakki_toroslu,3) assign(5710331,bmb_1,sat_17_30_to_18_30,1,erol_sahin,1) assign(5710331,bmb_1,thu_19_30_to_20_30,1,erol_sahin,2) assign(5710331,bmb_1,sat_15_30_to_16_30,1,erol_sahin,3) assign(5710351,bmb_1,sun_10_30_to_11_30,1,pinar_karagoz,1) assign(5710351,bmb_1,mon_19_30_to_20_30,1,pinar_karagoz,2) assign(5710351,bmb_1,sun_12_30_to_13_30,1,pinar_karagoz,3) assign(5710351,bmb_1,tue_8_30_to_9_30,2,ismail_sengor_altingovde,1) assign(5710351,bmb_1,sun_11_30_to_12_30,2,ismail_sengor_altingovde,2) assign(5710351,bmb_1,mon_18_30_to_19_30,2,ismail_sengor_altingovde,3) assign(5710371,bmb_4,mon_13_30_to_14_30,1,murat_manguoglu,1) assign(5710371,bmb_4,mon_16_30_to_17_30,1,murat_manguoglu,2) assign(5710371,bmb_4,mon_15_30_to_16_30,1,murat_manguoglu,3) assign(5710424,bmb_5,fri_9_30_to_10_30,1,ferda_nur_alpaslan,1) assign(5710424,bmb_5,fri_14_30_to_15_30,1,ferda_nur_alpaslan,2) assign(5710424,bmb_5,fri_13_30_to_14_30,1,ferda_nur_alpaslan,3) assign(5710435,bmb_1,sat_18_30_to_19_30,1,ertan_onur,1) assign(5710435,bmb_1,sun_8_30_to_9_30,1,ertan_onur,2) assign(5710435,bmb_1,mon_11_30_to_12_30,1,ertan_onur,3) assign(5710435,bmb_1,sat_19_30_to_20_30,2,ertan_onur,1) assign(5710435,bmb_1,sun_9_30_to_10_30,2,ertan_onur,2) assign(5710435,bmb_1,mon_12_30_to_13_30,2,ertan_onur,3) assign(5710443,bmb_4,fri_15_30_to_16_30,1,cevat_sener,1) assign(5710443,bmb_4,fri_14_30_to_15_30,1,cevat_sener,2) assign(5710443,bmb_4,fri_8_30_to_9_30,1,cevat_sener,3) assign(5710445,bmb_4,wed_11_30_to_12_30,1,onur_tolga_sehitoglu,1) assign(5710445,bmb_5,mon_17_30_to_18_30,1,onur_tolga_sehitoglu,2) assign(5710445,bmb_4,mon_10_30_to_11_30,1,onur_tolga_sehitoglu,3) assign(5710453,bmb_5,sun_8_30_to_9_30,1,hande_alemdar,1) assign(5710453,bmb_5,sat_19_30_to_20_30,1,hande_alemdar,2) assign(5710453,bmb_4,mon_9_30_to_10_30,1,hande_alemdar,3) assign(5710454,bmb_5,fri_11_30_to_12_30,1,cevat_sener,1) assign(5710454,bmb_5,sat_11_30_to_12_30,1,cevat_sener,2) assign(5710454,bmb_5,fri_18_30_to_19_30,1,cevat_sener,3) assign(5710460,bmb_5,sat_15_30_to_16_30,1,uluc_saranli,1) assign(5710460,bmb_5,sat_17_30_to_18_30,1,uluc_saranli,2) assign(5710460,bmb_5,sat_16_30_to_17_30,1,uluc_saranli,3) assign(5710463,bmb_5,fri_15_30_to_16_30,1,ayse_nur_birturk,1) assign(5710463,bmb_4,fri_11_30_to_12_30,1,ayse_nur_birturk,2) assign(5710463,bmb_5,fri_12_30_to_13_30,1,ayse_nur_birturk,3) assign(5710466,bmb_5,sat_10_30_to_11_30,1,fatos_tunay_yarman_vural,1) assign(5710466,bmb_5,sat_13_30_to_14_30,1,fatos_tunay_yarman_vural,2) assign(5710466,bmb_5,sat_9_30_to_10_30,1,fatos_tunay_yarman_vural,3) assign(5710477,bmb_1,mon_14_30_to_15_30,1,yusuf_sahillioglu,1) assign(5710477,bmb_1,mon_15_30_to_16_30,1,yusuf_sahillioglu,2) assign(5710477,bmb_1,mon_10_30_to_11_30,1,yusuf_sahillioglu,3) assign(5710477,bmb_1,mon_17_30_to_18_30,2,ahmet_oguz_akyuz,1) assign(5710477,bmb_1,mon_16_30_to_17_30,2,ahmet_oguz_akyuz,2) assign(5710477,bmb_1,mon_13_30_to_14_30,2,ahmet_oguz_akyuz,3) assign(5710483,bmb_5,sat_8_30_to_9_30,1,ramazan_gokberk_cinbis,1) assign(5710483,bmb_4,fri_19_30_to_20_30,1,ramazan_gokberk_cinbis,2) assign(5710483,bmb_5,sat_12_30_to_13_30,1,ramazan_gokberk_cinbis,3) assign(5710487,bmb_5,thu_17_30_to_18_30,1,murat_manguoglu,1) assign(5710487,bmb_5,tue_13_30_to_14_30,1,murat_manguoglu,2) assign(5710487,bmb_5,tue_9_30_to_10_30,1,murat_manguoglu,3) assign(5710499,bmb_2,mon_15_30_to_16_30,1,seyda_ertekin_bolelli,1) assign(5710501,bmb_4,mon_19_30_to_20_30,1,emre_akbas,1) assign(5710501,bmb_4,tue_8_30_to_9_30,1,emre_akbas,2) assign(5710501,bmb_4,mon_12_30_to_13_30,1,emre_akbas,3) assign(5710514,bmb_a101,sat_13_30_to_14_30,1,pinar_karagoz,1) assign(5710514,bmb_a101,sat_19_30_to_20_30,1,pinar_karagoz,2) assign(5710514,bmb_a101,sat_9_30_to_10_30,1,pinar_karagoz,3) assign(5710536,bmb_a101,sun_14_30_to_15_30,1,onur_tolga_sehitoglu,1) assign(5710536,bmb_a101,sun_19_30_to_20_30,1,onur_tolga_sehitoglu,2) assign(5710536,bmb_a101,sun_11_30_to_12_30,1,onur_tolga_sehitoglu,3) assign(5710540,bmb_4,sat_9_30_to_10_30,1,mehmet_halit_s_oguztuzun,1) assign(5710540,bmb_4,fri_13_30_to_14_30,1,mehmet_halit_s_oguztuzun,2) assign(5710540,bmb_4,fri_12_30_to_13_30,1,mehmet_halit_s_oguztuzun,3) assign(5710562,bmb_a101,fri_16_30_to_17_30,1,ferda_nur_alpaslan,1) assign(5710562,bmb_a101,sun_10_30_to_11_30,1,ferda_nur_alpaslan,2) assign(5710562,bmb_a101,mon_15_30_to_16_30,1,ferda_nur_alpaslan,3) assign(5710570,bmb_a101,sat_10_30_to_11_30,1,hakan_yildiz,1) assign(5710570,bmb_a101,fri_8_30_to_9_30,1,hakan_yildiz,2) assign(5710570,bmb_a101,fri_19_30_to_20_30,1,hakan_yildiz,3) assign(5710587,bmb_a101,tue_9_30_to_10_30,1,ahmet_oguz_akyuz,1) assign(5710587,bmb_a101,mon_11_30_to_12_30,1,ahmet_oguz_akyuz,2) assign(5710587,bmb_a101,tue_10_30_to_11_30,1,ahmet_oguz_akyuz,3) assign(5710590,bmb_4,wed_10_30_to_11_30,1,pelin_angin,1) assign(5710590,bmb_4,thu_10_30_to_11_30,1,pelin_angin,2) assign(5710590,bmb_5,tue_16_30_to_17_30,1,pelin_angin,3) assign(5710591,bmb_4,thu_8_30_to_9_30,1,fatos_tunay_yarman_vural,1) assign(5710591,bmb_4,tue_16_30_to_17_30,1,fatos_tunay_yarman_vural,2) assign(5710591,bmb_4,sat_11_30_to_12_30,1,fatos_tunay_yarman_vural,3) assign(5710778,bmb_a101,mon_10_30_to_11_30,1,ismail_sengor_altingovde,1) assign(5710778,bmb_a101,mon_19_30_to_20_30,1,ismail_sengor_altingovde,2) assign(5710778,bmb_a101,mon_9_30_to_10_30,1,ismail_sengor_altingovde,3) assign(5710786,bmb_a101,tue_15_30_to_16_30,1,uluc_saranli,1) assign(5710786,bmb_a101,tue_18_30_to_19_30,1,uluc_saranli,2) assign(5710786,bmb_a101,sat_8_30_to_9_30,1,uluc_saranli,3)\n",
    "\n",
    "\n",
    "\"\"\"\n",
    "\n"
   ]
  },
  {
   "cell_type": "code",
   "execution_count": 11,
   "metadata": {},
   "outputs": [
    {
     "name": "stdout",
     "output_type": "stream",
     "text": [
      "    Course Code     Place                Time Section  \\\n",
      "0       5710100     bmb_1  tue_11_30_to_12_30       1   \n",
      "1       5710100     bmb_1  sat_14_30_to_15_30       1   \n",
      "2       5710111     bmb_5  sat_14_30_to_15_30       1   \n",
      "3       5710111     bmb_4  mon_14_30_to_15_30       1   \n",
      "4       5710111     bmb_1  sun_16_30_to_17_30       1   \n",
      "..          ...       ...                 ...     ...   \n",
      "133     5710778  bmb_a101  mon_19_30_to_20_30       1   \n",
      "134     5710778  bmb_a101   mon_9_30_to_10_30       1   \n",
      "135     5710786  bmb_a101  tue_15_30_to_16_30       1   \n",
      "136     5710786  bmb_a101  tue_18_30_to_19_30       1   \n",
      "137     5710786  bmb_a101    sat_8_30_to_9_30       1   \n",
      "\n",
      "                   Instructor Hour  \n",
      "0                  emre_akbas    1  \n",
      "1                  emre_akbas    2  \n",
      "2                sinan_kalkan    1  \n",
      "3                sinan_kalkan    2  \n",
      "4                sinan_kalkan    3  \n",
      "..                        ...  ...  \n",
      "133  ismail_sengor_altingovde    2  \n",
      "134  ismail_sengor_altingovde    3  \n",
      "135              uluc_saranli    1  \n",
      "136              uluc_saranli    2  \n",
      "137              uluc_saranli    3  \n",
      "\n",
      "[138 rows x 6 columns]\n"
     ]
    }
   ],
   "source": [
    "# Define a regular expression pattern to extract the values\n",
    "pattern = r\"assign\\((\\d+),([^,]+),([^,]+),(\\d+),([^,]+),(\\d+)\\)\"\n",
    "\n",
    "# Find all matches in the data string\n",
    "matches = re.findall(pattern, data_str)\n",
    "\n",
    "# Create a list of dictionaries to store the extracted values\n",
    "data = []\n",
    "for match in matches:\n",
    "    course_code, place, time, section, instructor, hour = match\n",
    "    data.append({\n",
    "        'Course Code': course_code,\n",
    "        'Place': place,\n",
    "        'Time': time,\n",
    "        'Section': section,\n",
    "        'Instructor': instructor,\n",
    "        'Hour': hour\n",
    "    })\n",
    "\n",
    "# Create a DataFrame from the list of dictionaries\n",
    "df = pd.DataFrame(data)\n",
    "\n",
    "# Print the DataFrame\n",
    "print(df)\n"
   ]
  }
 ],
 "metadata": {
  "kernelspec": {
   "display_name": "myenv",
   "language": "python",
   "name": "python3"
  },
  "language_info": {
   "codemirror_mode": {
    "name": "ipython",
    "version": 3
   },
   "file_extension": ".py",
   "mimetype": "text/x-python",
   "name": "python",
   "nbconvert_exporter": "python",
   "pygments_lexer": "ipython3",
   "version": "3.11.5"
  }
 },
 "nbformat": 4,
 "nbformat_minor": 2
}
